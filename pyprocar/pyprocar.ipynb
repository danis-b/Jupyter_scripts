{
 "cells": [
  {
   "cell_type": "code",
   "execution_count": 1,
   "id": "fresh-release",
   "metadata": {},
   "outputs": [
    {
     "name": "stdout",
     "output_type": "stream",
     "text": [
      " ____        ____\n",
      "|  _ \\ _   _|  _ \\ _ __ ___   ___ __ _ _ __ \n",
      "| |_) | | | | |_) | '__/ _ \\ / __/ _` | '__|\n",
      "|  __/| |_| |  __/| | | (_) | (_| (_| | |   \n",
      "|_|    \\__, |_|   |_|  \\___/ \\___\\__,_|_|\n",
      "       |___/\n",
      "A Python library for electronic structure pre/post-processing.\n",
      "\n",
      "Version 5.6.3 created on Mar 5th, 2021\n",
      "\n",
      "Please cite:\n",
      " Uthpala Herath, Pedram Tavadze, Xu He, Eric Bousquet, Sobhit Singh, Francisco Muñoz and Aldo Romero.,\n",
      " PyProcar: A Python library for electronic structure pre/post-processing.,\n",
      " Computer Physics Communications 251 (2020):107080.\n",
      "\n",
      "\n",
      "Developers:\n",
      "- Francisco Muñoz\n",
      "- Aldo Romero\n",
      "- Sobhit Singh\n",
      "- Uthpala Herath\n",
      "- Pedram Tavadze\n",
      "- Eric Bousquet\n",
      "- Xu He\n",
      "- Reese Boucher\n",
      "- Logan Lang\n",
      "- Freddy Farah\n",
      "    \n",
      "Script initiated...\n",
      "PROCAR repaired. Run with repair=False next time.\n",
      "code           :  vasp\n",
      "input file     :  PROCAR-repaired\n",
      "mode           :  parametric\n",
      "spin comp.     :  0\n",
      "atoms list     :  [0]\n",
      "orbs. list     :  [0]\n",
      "fermi energy   :  None\n",
      "energy range   :  [-2, 2]\n",
      "colormap       :  plasma\n",
      "markersize     :  0.02\n",
      "permissive     :  False\n",
      "vmax           :  None\n",
      "vmin           :  None\n",
      "grid enabled   :  True\n",
      "human          :  False\n",
      "savefig        :  None\n",
      "title          :  None\n",
      "outcar         :  OUTCAR\n",
      "k-grid         :  reduced\n",
      "knames         :  ['$X$', '$\\\\Gamma$', '$Y$']\n",
      "kticks         :  [0, 19, 39]\n",
      "Fermi energy   :  0.8508 eV (from OUTCAR)\n",
      "spd shape      :  (40, 1584, 1, 322, 11) [kpoints, bands, spins, atoms+1, orbitals+2]\n",
      "normalizing to :  (0.0, 0.919)\n"
     ]
    }
   ],
   "source": [
    "import numpy as np\n",
    "import matplotlib.pyplot as plt\n",
    "import matplotlib.colors as colors\n",
    "import pyprocar\n",
    "\n",
    "# pyprocar.repair('PROCAR','PROCAR-repaired')\n",
    "\n",
    "\n",
    "fig, ax = pyprocar.bandsplot('PROCAR-repaired',\n",
    "                   outcar='OUTCAR',\n",
    "                   elimit=[-2,2],\n",
    "                   kpointsfile='KPOINTS',\n",
    "                   cmap='plasma',\n",
    "                   mode='parametric',\n",
    "                   atoms=[0],  \n",
    "                 # s = 0; py = 1, pz = 2, px = 3            \n",
    "                   orbitals=[0],  \n",
    "                   show=False)\n",
    "\n",
    "ax.grid(color='black', linestyle='dotted', linewidth=0.5)\n",
    "ax.tick_params(axis = 'both', which = 'major', labelsize = 20)\n",
    "ax.set_title('Contribution of Ge and Bi atoms')\n",
    "# ax.set_aspect(0.8)\n",
    "fig.savefig('3.png', dpi=100)\n"
   ]
  },
  {
   "cell_type": "code",
   "execution_count": null,
   "id": "grateful-parking",
   "metadata": {},
   "outputs": [],
   "source": []
  }
 ],
 "metadata": {
  "kernelspec": {
   "display_name": "Python 3",
   "language": "python",
   "name": "python3"
  },
  "language_info": {
   "codemirror_mode": {
    "name": "ipython",
    "version": 3
   },
   "file_extension": ".py",
   "mimetype": "text/x-python",
   "name": "python",
   "nbconvert_exporter": "python",
   "pygments_lexer": "ipython3",
   "version": "3.7.12"
  }
 },
 "nbformat": 4,
 "nbformat_minor": 5
}
