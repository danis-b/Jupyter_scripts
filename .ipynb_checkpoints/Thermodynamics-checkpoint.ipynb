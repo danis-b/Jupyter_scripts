{
 "cells": [
  {
   "cell_type": "code",
   "execution_count": 1,
   "id": "intense-speech",
   "metadata": {
    "scrolled": true
   },
   "outputs": [
    {
     "name": "stdout",
     "output_type": "stream",
     "text": [
      "P1:  1.000e+06 MPa\n",
      "P2:  6.500e+05 MPa\n",
      "T1:  480 K\n",
      "V1:  3.991e-03 m^3\n",
      "V2:  5.633e-03 m^3\n",
      "T2:  440.37627005303915 K\n"
     ]
    },
    {
     "data": {
      "text/plain": [
       "Text(0, 0.5, 'P (Pa)')"
      ]
     },
     "execution_count": 1,
     "metadata": {},
     "output_type": "execute_result"
    },
    {
     "data": {
      "image/png": "[encoded data removed]",
      "text/plain": [
       "<Figure size 432x288 with 1 Axes>"
      ]
     },
     "metadata": {
      "needs_background": "light"
     },
     "output_type": "display_data"
    }
   ],
   "source": [
    "import numpy as np\n",
    "import matplotlib.pyplot as plt\n",
    "import math\n",
    "\n",
    "P1 = 1.0E6\n",
    "P2 = 0.65E6\n",
    "n = 1.25\n",
    "T1 = 480\n",
    "R = 8.314\n",
    "\n",
    "print (\"P1:  \"f\"{P1:.3e} MPa\")\n",
    "print (\"P2:  \"f\"{P2:.3e} MPa\")\n",
    "print (\"T1:  \"f\"{T1} K\")\n",
    "\n",
    "V1 = R*T1/P1\n",
    "print (\"V1:  \"f\"{V1:.3e} m^3\")\n",
    "\n",
    "V2 =  V1/((P2/P1)**(1/n)) \n",
    "print (\"V2:  \"f\"{V2:.3e} m^3\")\n",
    "\n",
    "T2 = P2*V2/R\n",
    "print (\"T2:  \"f\"{T2} K\")\n",
    "\n",
    "#PV^n = const\n",
    "const = P1*V1**n\n",
    "\n",
    "V_var = np.arange(3E-3, 7E-3, 0.1E-3)\n",
    "P_var = const/(V_var)**n\n",
    "\n",
    "plt.plot(V_var, P_var)\n",
    "plt.scatter(V1, P1)\n",
    "plt.scatter(V2, P2)\n",
    "plt.xlabel(\"V (m^3)\")\n",
    "plt.ylabel(\"P (Pa)\")\n",
    "\n"
   ]
  },
  {
   "cell_type": "code",
   "execution_count": 2,
   "id": "impaired-reynolds",
   "metadata": {},
   "outputs": [
    {
     "name": "stdout",
     "output_type": "stream",
     "text": [
      "Cv:  860.0 кДж/(кг K)\n",
      "Cp:  1146.551724137931 кДж/(кг K)\n",
      "q:  11340.584777923248 кДж/кг\n",
      "L:  1317.7267631161321 кДж/кг\n",
      "L':  1647.1584538951652 кДж/кг\n",
      "dU:  -34076.40775438633 кДж/кг\n",
      "dH:  -45430.65588746373 кДж/кг\n",
      "dS:  -95.20144987060102  \n"
     ]
    },
    {
     "data": {
      "text/plain": [
       "Text(0, 0.5, 'S ')"
      ]
     },
     "execution_count": 2,
     "metadata": {},
     "output_type": "execute_result"
    },
    {
     "data": {
      "image/png": "[encoded data removed]",
      "text/plain": [
       "<Figure size 432x288 with 1 Axes>"
      ]
     },
     "metadata": {
      "needs_background": "light"
     },
     "output_type": "display_data"
    }
   ],
   "source": [
    "\n",
    "mu = 29e-3 #Молярная масса воздуха в кг/моль\n",
    "muCv = 24.94 # кДж/(кмоль К)\n",
    "muCp = 33.25 # кДж/(кмоль К)\n",
    "\n",
    "Cv = muCv/mu\n",
    "Cp = muCp/mu\n",
    "\n",
    "k = Cp/Cv\n",
    "\n",
    "print (\"Cv:  \"f\"{Cv} кДж/(кг K)\")\n",
    "print (\"Cp:  \"f\"{Cp} кДж/(кг K)\")\n",
    "\n",
    "q = Cv*(n-k)/(n-1)*(T2-T1)\n",
    "\n",
    "print (\"q:  \"f\"{q} кДж/кг\")\n",
    "\n",
    "L = (P1*V1 - P2*V2)/(n-1)\n",
    "L1 = L*n\n",
    "\n",
    "print (\"L:  \"f\"{L} кДж/кг\")\n",
    "print (\"L':  \"f\"{L1} кДж/кг\")\n",
    "\n",
    "dU = Cv*(T2-T1)\n",
    "dH = Cp*(T2-T1)\n",
    "dS = Cp*math.log(T2/T1)- R*math.log(P2/P1)\n",
    "\n",
    "print (\"dU:  \"f\"{dU} кДж/кг\")\n",
    "print (\"dH:  \"f\"{dH} кДж/кг\")\n",
    "print (\"dS:  \"f\"{dS}  \")\n",
    "\n",
    "T0 = 273  #К\n",
    "P0 = 1.013E5 #Па\n",
    "\n",
    "V_var = np.arange(3E-3, 7E-3, 0.1E-3)\n",
    "P_var = const/(V_var)**n\n",
    "T_var = P_var*V_var/R\n",
    "#S_var = Cp*math.log(T_var/T0)- R*math.log(P_var/P0)\n",
    "\n",
    "\n",
    "def count(t, p):\n",
    "  return Cp*math.log(t/T0)-R*math.log(p/P0)\n",
    "\n",
    "S_var = [count(t, p) for t, p in zip(P_var, T_var)]\n",
    "    \n",
    "    \n",
    "plt.plot(T_var, S_var)\n",
    "plt.xlabel(\"T (K)\")\n",
    "plt.ylabel(\"S \")\n",
    "\n"
   ]
  },
  {
   "cell_type": "code",
   "execution_count": null,
   "id": "crazy-glasgow",
   "metadata": {},
   "outputs": [],
   "source": []
  }
 ],
 "metadata": {
  "kernelspec": {
   "display_name": "Python 3",
   "language": "python",
   "name": "python3"
  },
  "language_info": {
   "codemirror_mode": {
    "name": "ipython",
    "version": 3
   },
   "file_extension": ".py",
   "mimetype": "text/x-python",
   "name": "python",
   "nbconvert_exporter": "python",
   "pygments_lexer": "ipython3",
   "version": "3.7.10"
  }
 },
 "nbformat": 4,
 "nbformat_minor": 5
}
