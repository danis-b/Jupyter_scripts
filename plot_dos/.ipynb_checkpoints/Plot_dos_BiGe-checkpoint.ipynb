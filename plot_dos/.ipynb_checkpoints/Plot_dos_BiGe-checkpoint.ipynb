{
 "cells": [
  {
   "cell_type": "code",
   "execution_count": 1,
   "id": "anonymous-preparation",
   "metadata": {},
   "outputs": [],
   "source": [
    "import numpy as np\n",
    "import matplotlib.pyplot as plt\n",
    "import matplotlib.colors as colors\n",
    "\n",
    "\n",
    "\n",
    "x = np.zeros(4000)\n",
    "dos_Ge = np.zeros(4000)\n",
    "dos_Bi = np.zeros(4000)\n",
    "\n",
    "\n",
    "\n",
    "for i in range(1,25):\n",
    "    with open(f'dosp.{i}.dat') as fp:\n",
    "        for j,line in enumerate(fp):\n",
    "            item = line.split()\n",
    "            x[j] = float(item[0])\n",
    "            if (i < 8):\n",
    "                dos_Ge[j] +=(float(item[2]) + float(item[3]) + float(item[4]))\n",
    "            else:\n",
    "                dos_Bi[j] +=(float(item[2]) + float(item[3]) + float(item[4]))\n",
    "\n",
    "\n",
    "with open('data.dat', 'a') as fp1:\n",
    "    for i in range(4000):\n",
    "        print(x[i], \"{:.4f}\".format(dos_Ge[i]), \"{:.4f}\".format(dos_Bi[i]),file=fp1) \n",
    "        \n",
    "            \n",
    "# fig = plt.figure(figsize=(7,7))\n",
    "# ax = fig.add_subplot(111)\n",
    "# ax.set_aspect(0.2)\n",
    "# ax.set_xlim([-0.5, 0.5])\n",
    "# # plt.xticks([-2, -1.5, -1, -0.5, 0, 0.5, 1.0, 1.5, 2.0, 2.5, 3.0])\n",
    "# ax.set_ylim([0, 8])\n",
    "# ax.tick_params(axis='both', which='major', labelsize=15)\n",
    "# ax.grid(color='black', linestyle='dashed', linewidth=0.5)\n",
    "# ax.plot(x,dos_Ge, color='red', linewidth=2, label='Ge($p$)')\n",
    "# ax.plot(x,dos_Bi, color='royalblue', linewidth=2, label='Bi($p$)')\n",
    "# ax.legend()\n",
    "# ax.set_xlabel('Energy (eV)', fontsize=15)\n",
    "# ax.set_ylabel('DOS (states/eV)', fontsize=15)\n",
    "# plt.title('Ge/Bi/2Au(111)', fontsize=15)\n",
    "\n",
    "# fig.savefig('dos.png', dpi=200)        \n",
    "\n"
   ]
  },
  {
   "cell_type": "code",
   "execution_count": null,
   "id": "every-mounting",
   "metadata": {},
   "outputs": [],
   "source": []
  }
 ],
 "metadata": {
  "kernelspec": {
   "display_name": "Python 3",
   "language": "python",
   "name": "python3"
  },
  "language_info": {
   "codemirror_mode": {
    "name": "ipython",
    "version": 3
   },
   "file_extension": ".py",
   "mimetype": "text/x-python",
   "name": "python",
   "nbconvert_exporter": "python",
   "pygments_lexer": "ipython3",
   "version": "3.7.12"
  }
 },
 "nbformat": 4,
 "nbformat_minor": 5
}
