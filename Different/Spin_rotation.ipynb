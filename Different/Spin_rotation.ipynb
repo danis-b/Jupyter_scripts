{
 "cells": [
  {
   "cell_type": "code",
   "execution_count": 8,
   "id": "bizarre-lucas",
   "metadata": {},
   "outputs": [
    {
     "name": "stdout",
     "output_type": "stream",
     "text": [
      "[ 1.04735459e+00 -3.33300000e-07]\n"
     ]
    }
   ],
   "source": [
    "import numpy as np\n",
    "\n",
    "t = np.array([[1.571189, 0.907126], [0.000000, 1.814253]])\n",
    "b1 = np.array([0.3333, 0.3333])\n",
    "b2 = np.array([-0.3333, 0.6666])\n",
    "b3 = np.array([-0.6666, 0.3333])\n",
    "b4 = np.array([-0.3333, -0.3333])\n",
    "b5 = np.array([0.3333, -0.6666])\n",
    "b6 = np.array([0.6666, -0.3333])\n",
    "\n",
    "t1 =  t.T\n",
    "\n",
    "c = b6.dot(t)\n",
    "\n",
    "print(c)\n",
    "\n",
    "\n"
   ]
  },
  {
   "cell_type": "code",
   "execution_count": null,
   "id": "institutional-platform",
   "metadata": {},
   "outputs": [],
   "source": []
  }
 ],
 "metadata": {
  "kernelspec": {
   "display_name": "Python 3",
   "language": "python",
   "name": "python3"
  },
  "language_info": {
   "codemirror_mode": {
    "name": "ipython",
    "version": 3
   },
   "file_extension": ".py",
   "mimetype": "text/x-python",
   "name": "python",
   "nbconvert_exporter": "python",
   "pygments_lexer": "ipython3",
   "version": "3.7.12"
  }
 },
 "nbformat": 4,
 "nbformat_minor": 5
}
