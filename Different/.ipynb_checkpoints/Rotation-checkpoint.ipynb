{
 "cells": [
  {
   "cell_type": "code",
   "execution_count": 33,
   "id": "composed-portland",
   "metadata": {},
   "outputs": [
    {
     "name": "stdout",
     "output_type": "stream",
     "text": [
      "Cartesian\n",
      "[4.6136241  2.02888282]\n",
      "Reciprocal\n",
      "[0.32243895 0.1305779 ]\n"
     ]
    }
   ],
   "source": [
    "import numpy as np\n",
    "import matplotlib.pyplot as plt\n",
    "import math\n",
    "\n",
    "\n",
    "A = np.array([[17.9413757324000009, 0], [-8.9706927801000003, 15.5377195646999997]])\n",
    "\n",
    "k =  0\n",
    "\n",
    "Rot = np.array([[np.cos(k), -np.sin(k)], [np.sin(k), np.cos(k)]])\n",
    "\n",
    "B1 = [0.18408, 0.32334]\n",
    "\n",
    "B2 = A.T.dot(B1)\n",
    "B3 = Rot.T.dot(B2)\n",
    "\n",
    "print('Cartesian')\n",
    "print(B3)\n",
    "\n",
    "print('Reciprocal')\n",
    "B4  = np.linalg.inv(A).T.dot(B3)\n",
    "print(B4)"
   ]
  },
  {
   "cell_type": "code",
   "execution_count": null,
   "id": "smoking-operator",
   "metadata": {},
   "outputs": [],
   "source": []
  }
 ],
 "metadata": {
  "kernelspec": {
   "display_name": "Python 3",
   "language": "python",
   "name": "python3"
  },
  "language_info": {
   "codemirror_mode": {
    "name": "ipython",
    "version": 3
   },
   "file_extension": ".py",
   "mimetype": "text/x-python",
   "name": "python",
   "nbconvert_exporter": "python",
   "pygments_lexer": "ipython3",
   "version": "3.7.12"
  }
 },
 "nbformat": 4,
 "nbformat_minor": 5
}
