{
 "cells": [
  {
   "cell_type": "code",
   "execution_count": 33,
   "id": "intense-speech",
   "metadata": {
    "scrolled": true
   },
   "outputs": [
    {
     "name": "stdout",
     "output_type": "stream",
     "text": [
      "P1:  1.000e+06 MPa\n",
      "P2:  6.000e+05 MPa\n",
      "T1:  480 K\n",
      "V1:  1.378e-01 m^3\n",
      "V2:  2.073e-01 m^3\n",
      "T2:  433.38261669476844 K\n",
      "const:  83927.42867673482\n"
     ]
    },
    {
     "data": {
      "text/plain": [
       "Text(0, 0.5, 'P (Pa)')"
      ]
     },
     "execution_count": 33,
     "metadata": {},
     "output_type": "execute_result"
    },
    {
     "data": {
      "image/png": "[encoded data removed]",
      "text/plain": [
       "<Figure size 432x288 with 1 Axes>"
      ]
     },
     "metadata": {
      "needs_background": "light"
     },
     "output_type": "display_data"
    }
   ],
   "source": [
    "import numpy as np\n",
    "import matplotlib.pyplot as plt\n",
    "import math\n",
    "\n",
    "P1 = 1E6\n",
    "P2 = 0.6E6\n",
    "n = 1.25\n",
    "T1 = 480\n",
    "R = 287\n",
    "\n",
    "print (\"P1:  \"f\"{P1:.3e} MPa\")\n",
    "print (\"P2:  \"f\"{P2:.3e} MPa\")\n",
    "print (\"T1:  \"f\"{T1} K\")\n",
    "\n",
    "V1 = R*T1/P1\n",
    "print (\"V1:  \"f\"{V1:.3e} m^3\")\n",
    "\n",
    "V2 =  V1/((P2/P1)**(1/n)) \n",
    "print (\"V2:  \"f\"{V2:.3e} m^3\")\n",
    "\n",
    "T2 = P2*V2/R\n",
    "print (\"T2:  \"f\"{T2} K\")\n",
    "\n",
    "#PV^n = const\n",
    "const = P1*V1**n\n",
    "print (\"const:  \"f\"{const}\")\n",
    "\n",
    "V_var = np.arange(1E-3, 0.3, 0.1E-3)\n",
    "P_var = const/(V_var)**n\n",
    "\n",
    "plt.plot(V_var, P_var)\n",
    "plt.scatter(V1, P1)\n",
    "plt.scatter(V2, P2)\n",
    "plt.xlabel(\"V (m^3)\")\n",
    "plt.ylabel(\"P (Pa)\")\n",
    "\n"
   ]
  },
  {
   "cell_type": "code",
   "execution_count": 34,
   "id": "impaired-reynolds",
   "metadata": {},
   "outputs": [
    {
     "name": "stdout",
     "output_type": "stream",
     "text": [
      "Cv:  0.779375 кДж/(кг K)\n",
      "Cp:  1.0390625 кДж/(кг K)\n",
      "q:  12.091383794794435 кДж/кг\n",
      "P1*V1:  137760.0 кДж/кг\n",
      "P2*V2:  124380.81099139854 кДж/кг\n",
      "L:  53516.756034405844 кДж/кг\n",
      "L':  66895.9450430073 кДж/кг\n",
      "dU:  -36.33242311351484 кДж/кг\n",
      "dH:  -48.43837484059216 кДж/кг\n",
      "dS:  146.50079807090046  \n"
     ]
    },
    {
     "data": {
      "text/plain": [
       "Text(0, 0.5, 'S ')"
      ]
     },
     "execution_count": 34,
     "metadata": {},
     "output_type": "execute_result"
    },
    {
     "data": {
      "image/png": "[encoded data removed]",
      "text/plain": [
       "<Figure size 432x288 with 1 Axes>"
      ]
     },
     "metadata": {
      "needs_background": "light"
     },
     "output_type": "display_data"
    }
   ],
   "source": [
    "\n",
    "mu = 32 # кг/кмоль\n",
    "muCv = 24.94 # кДж/(кмоль К)\n",
    "muCp = 33.25 # кДж/(кмоль К)\n",
    "\n",
    "Cv = muCv/mu\n",
    "Cp = muCp/mu\n",
    "\n",
    "k = Cp/Cv\n",
    "\n",
    "print (\"Cv:  \"f\"{Cv} кДж/(кг K)\")\n",
    "print (\"Cp:  \"f\"{Cp} кДж/(кг K)\")\n",
    "\n",
    "q = Cv*(n-k)/(n-1)*(T2-T1)\n",
    "\n",
    "print (\"q:  \"f\"{q} кДж/кг\")\n",
    "\n",
    "print (\"P1*V1:  \"f\"{P1*V1} кДж/кг\")\n",
    "print (\"P2*V2:  \"f\"{P2*V2} кДж/кг\")\n",
    "\n",
    "L = (P1*V1 - P2*V2)/(n-1)\n",
    "L1 = L*n\n",
    "\n",
    "print (\"L:  \"f\"{L} кДж/кг\")\n",
    "print (\"L':  \"f\"{L1} кДж/кг\")\n",
    "\n",
    "dU = Cv*(T2-T1)\n",
    "dH = Cp*(T2-T1)\n",
    "dS = Cp*math.log(T2/T1)- R*math.log(P2/P1)\n",
    "\n",
    "print (\"dU:  \"f\"{dU} кДж/кг\")\n",
    "print (\"dH:  \"f\"{dH} кДж/кг\")\n",
    "print (\"dS:  \"f\"{dS}  \")\n",
    "\n",
    "T0 = 273  #К\n",
    "P0 = 1.013E5 #Па\n",
    "\n",
    "V_var = np.arange(1E-4, 1, 0.1E-3)\n",
    "P_var = const/(V_var)**n\n",
    "T_var = P_var*V_var/R\n",
    "#S_var = Cp*math.log(T_var/T0)- R*math.log(P_var/P0)\n",
    "\n",
    "\n",
    "def count(t, p):\n",
    "  return Cp*math.log(t/T0)-R*math.log(p/P0)\n",
    "\n",
    "S_var = [count(t, p) for t, p in zip(P_var, T_var)]\n",
    "    \n",
    "    \n",
    "plt.plot(T_var, S_var)\n",
    "plt.xlabel(\"T (K)\")\n",
    "plt.ylabel(\"S \")\n",
    "\n"
   ]
  },
  {
   "cell_type": "code",
   "execution_count": null,
   "id": "crazy-glasgow",
   "metadata": {},
   "outputs": [],
   "source": []
  },
  {
   "cell_type": "code",
   "execution_count": null,
   "id": "lovely-treaty",
   "metadata": {},
   "outputs": [],
   "source": []
  }
 ],
 "metadata": {
  "kernelspec": {
   "display_name": "Python 3",
   "language": "python",
   "name": "python3"
  },
  "language_info": {
   "codemirror_mode": {
    "name": "ipython",
    "version": 3
   },
   "file_extension": ".py",
   "mimetype": "text/x-python",
   "name": "python",
   "nbconvert_exporter": "python",
   "pygments_lexer": "ipython3",
   "version": "3.7.12"
  }
 },
 "nbformat": 4,
 "nbformat_minor": 5
}
