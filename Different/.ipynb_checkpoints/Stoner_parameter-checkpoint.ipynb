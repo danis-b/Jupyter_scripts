{
 "cells": [
  {
   "cell_type": "code",
   "execution_count": 3,
   "id": "bizarre-lucas",
   "metadata": {},
   "outputs": [
    {
     "name": "stdout",
     "output_type": "stream",
     "text": [
      "1.49 0.04 0.04 \n",
      " 0.04 -1.12 0.01 \n",
      " 0.04 0.01 -1.12 \n",
      " -0.7520449897750516\n",
      "[ 1.48891216 -1.10911497 -1.13184218]\n",
      "\n",
      "\n",
      "[[ 0.99977248  0.02129037 -0.00130581]\n",
      " [ 0.01417965 -0.70909879 -0.70496656]\n",
      " [ 0.01593494 -0.70478765  0.70923934]]\n"
     ]
    }
   ],
   "source": [
    "import numpy as np\n",
    "import matplotlib.pylab as plt\n",
    "\n",
    "b = np.array(([[-0.097, -0.008, 0.009],\n",
    "               [-0.008, -0.052, -0.017],\n",
    "               [0.009, -0.017, -0.052]]))\n",
    "\n",
    "\n",
    "m = np.array(([[0.058, 0.012, -0.012],\n",
    "               [0.012, -0.044, -0.004],\n",
    "               [-0.012, -0.004, -0.044]]))\n",
    "\n",
    "\n",
    "I = -b*np.linalg.inv(m) \n",
    "\n",
    "for i in range(3):\n",
    "    for j in range(3):\n",
    "        print(\"{:.2f}\".format(I[i][j]), end=' ')\n",
    "    print('\\n', end=' ')  \n",
    "    \n",
    "I_sum = np.trace(I)\n",
    "print(I_sum)\n",
    "\n",
    "w, v = np.linalg.eig(I)\n",
    "\n",
    "print(w)\n",
    "print('\\n')\n",
    "print(v)\n"
   ]
  },
  {
   "cell_type": "code",
   "execution_count": null,
   "id": "static-company",
   "metadata": {},
   "outputs": [],
   "source": []
  }
 ],
 "metadata": {
  "kernelspec": {
   "display_name": "Python 3",
   "language": "python",
   "name": "python3"
  },
  "language_info": {
   "codemirror_mode": {
    "name": "ipython",
    "version": 3
   },
   "file_extension": ".py",
   "mimetype": "text/x-python",
   "name": "python",
   "nbconvert_exporter": "python",
   "pygments_lexer": "ipython3",
   "version": "3.7.12"
  }
 },
 "nbformat": 4,
 "nbformat_minor": 5
}
