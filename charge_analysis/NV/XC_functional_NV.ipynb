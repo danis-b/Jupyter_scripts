{
 "cells": [
  {
   "cell_type": "code",
   "execution_count": 2,
   "id": "tracked-wagon",
   "metadata": {},
   "outputs": [
    {
     "name": "stdout",
     "output_type": "stream",
     "text": [
      "Wannier fuctions was read  successfully\n"
     ]
    }
   ],
   "source": [
    "import numpy as np\n",
    "\n",
    "\n",
    "def normalize(W, n):\n",
    "    \n",
    "    norm = 0\n",
    "    for i in range(n):\n",
    "        norm += (W[i]*W[i])\n",
    "        \n",
    "    for i in range(n):\n",
    "        W[i] = W[i]/np.sqrt(norm)\n",
    "    \n",
    "    return W\n",
    "        \n",
    "\n",
    "\n",
    "\n",
    "    \n",
    "W1 = np.genfromtxt('1.dat', dtype=float)\n",
    "W1 = W1.reshape(-1)\n",
    "n = len(W1)\n",
    "\n",
    "for i in range(1,5):\n",
    "    W1 = np.delete(W1, n-i)\n",
    "\n",
    "\n",
    "\n",
    "W2 = np.genfromtxt('2.dat', dtype=float)\n",
    "W2 = W2.reshape(-1)\n",
    "\n",
    "for i in range(1,5):\n",
    "    W2 = np.delete(W2, n-i)\n",
    "    \n",
    "\n",
    "W3 = np.genfromtxt('3.dat',  dtype=float)\n",
    "W3 = W3.reshape(-1)\n",
    "\n",
    "for i in range(1,5):\n",
    "    W3 = np.delete(W3, n-i)\n",
    "    \n",
    "\n",
    "W4 = np.genfromtxt('4.dat',  dtype=float)\n",
    "W4 = W4.reshape(-1)\n",
    "\n",
    "for i in range(1,5):\n",
    "    W4 = np.delete(W4, n-i)\n",
    "    \n",
    "n = n - 4    \n",
    "\n",
    "print(\"Wannier fuctions was read  successfully\")"
   ]
  },
  {
   "cell_type": "code",
   "execution_count": 10,
   "id": "radio-vegetation",
   "metadata": {},
   "outputs": [
    {
     "name": "stdout",
     "output_type": "stream",
     "text": [
      "Total number of electrons:  6.015048881617647\n",
      "Ex = -0.377535\n",
      "Ec = 0.061899\n",
      "Exc = -0.315636\n"
     ]
    }
   ],
   "source": [
    "normalize(W1, n)\n",
    "normalize(W2, n)\n",
    "normalize(W3, n)\n",
    "normalize(W4, n)\n",
    "    \n",
    "\n",
    "#NV- states in band basis    \n",
    "WF1 =  0.73546061*W1 + 0.67756747*W2\n",
    "WF2 =  0.39119388*W1 - 0.42461866*W2 + 0.57734928*W3 + 0.57735098*W4\n",
    "WF3 =  0.39119398*W1 - 0.42461895*W2 + 0.21132493*W3 - 0.78867471*W4\n",
    "WF4 = -0.39119344*W1 + 0.42461754*W2 + 0.78867584*W3 - 0.21132452*W4\n",
    "\n",
    "\n",
    "#total charge\n",
    "rho = 2*(WF1**2) + 2*(WF2**2) + (WF3**2) + (WF4**2) \n",
    "\n",
    "print(\"Total number of electrons: \", sum(rho))\n",
    "\n",
    "\n",
    "Ex_const = -1.5*pow(3/(4*np.pi),1/3)\n",
    "\n",
    "Energy_x = 0\n",
    "for i in range(n):\n",
    "    Energy_x +=  Ex_const*pow(rho[i],4/3)   \n",
    "    \n",
    "print(\"Ex = {:.6f}\".format(Energy_x))    \n",
    "\n",
    " \n",
    "x = pow((3/(4*np.pi*rho)),1/3)/21\n",
    "Ec  = -0.0225*((1+pow(x,3))*np.log(1 + 1/x) + x/2 - pow(x,3)- 1/3)\n",
    "\n",
    "Energy_c = 0\n",
    "for i in range(n):\n",
    "    Energy_c += rho[i]*Ec[i]\n",
    "    \n",
    "print(\"Ec = {:.6f}\".format(Energy_c)) \n",
    "\n",
    "print(\"Exc = {:.6f}\".format(Energy_x+Energy_c)) \n"
   ]
  },
  {
   "cell_type": "code",
   "execution_count": null,
   "id": "fossil-spread",
   "metadata": {},
   "outputs": [],
   "source": []
  }
 ],
 "metadata": {
  "kernelspec": {
   "display_name": "Python 3",
   "language": "python",
   "name": "python3"
  },
  "language_info": {
   "codemirror_mode": {
    "name": "ipython",
    "version": 3
   },
   "file_extension": ".py",
   "mimetype": "text/x-python",
   "name": "python",
   "nbconvert_exporter": "python",
   "pygments_lexer": "ipython3",
   "version": "3.7.12"
  }
 },
 "nbformat": 4,
 "nbformat_minor": 5
}
