{
 "cells": [
  {
   "cell_type": "code",
   "execution_count": 1,
   "id": "personalized-multimedia",
   "metadata": {},
   "outputs": [
    {
     "name": "stdout",
     "output_type": "stream",
     "text": [
      "vector array was constructed!\n"
     ]
    }
   ],
   "source": [
    "import numpy as np\n",
    "from datetime import datetime\n",
    "\n",
    "\n",
    "n1 = 120\n",
    "n2 = 168\n",
    "n3 = 384\n",
    "n_tot =  n1*n2*n3\n",
    "data = np.array(n_tot)\n",
    "\n",
    "vecs = np.array([[13.74489,    0.000000,    0.000000],\n",
    "                 [0.000000,   19.438200,    0.000000], \n",
    "                 [0.000000,    0.000000,   42.908154]])\n",
    "\n",
    "\n",
    "r = np.zeros((n_tot,3))\n",
    "r_cs = np.array([6.872445107, 7.634566784, 22.91703033])\n",
    "\n",
    "i = 0\n",
    "for c1 in range(n3):\n",
    "    for b1 in range(n2):\n",
    "        for a1 in range(n1):\n",
    "            for j in range(3):\n",
    "                r[i][j] = (vecs[0][j] * a1) / n1 + (vecs[1][j] * b1) / n2 + (vecs[2][j] * c1) / n3  \n",
    "            i+=1    \n",
    "\n",
    "print('vector array was constructed!')   "
   ]
  },
  {
   "cell_type": "code",
   "execution_count": 3,
   "id": "worth-equilibrium",
   "metadata": {},
   "outputs": [
    {
     "name": "stdout",
     "output_type": "stream",
     "text": [
      "-2.1186278317540584e-07\n",
      "data was read!\n"
     ]
    }
   ],
   "source": [
    "data = np.genfromtxt('CHGCAR_dp', skip_header=191)\n",
    "# data = np.loadtxt('data.dat')\n",
    "data = data.reshape(-1)\n",
    "\n",
    "sum = np.sum(data)\n",
    "print(sum/n_tot)\n",
    "\n",
    "print('data was read!')   "
   ]
  },
  {
   "cell_type": "code",
   "execution_count": 4,
   "id": "handed-craft",
   "metadata": {
    "scrolled": true
   },
   "outputs": [
    {
     "name": "stdout",
     "output_type": "stream",
     "text": [
      "0.2 0.0009060592047063044\n",
      "0.4256410256410257 0.0057865053893863694\n",
      "0.6512820512820514 0.009738534509432758\n",
      "0.8769230769230769 0.006176503396266095\n",
      "1.1025641025641026 -0.004368725484756267\n",
      "1.3282051282051284 -0.010714123356345171\n",
      "1.5538461538461539 -0.0016412707376674367\n",
      "1.7794871794871796 0.022410615007976836\n",
      "2.0051282051282056 0.05381541225717668\n",
      "2.2307692307692313 0.082877202021392\n",
      "2.456410256410257 0.10199541563430903\n",
      "2.6820512820512827 0.10750410447371501\n",
      "2.907692307692308 0.10271298849977857\n",
      "3.1333333333333337 0.09536854255330113\n",
      "3.3589743589743595 0.0951756529259825\n",
      "3.584615384615385 0.10553494404960727\n",
      "3.810256410256411 0.12121506972433714\n",
      "4.035897435897437 0.13946815987267383\n",
      "4.261538461538462 0.15660490145438416\n",
      "4.487179487179488 0.16646580350576431\n",
      "4.712820512820514 0.16453780025631873\n",
      "4.93846153846154 0.15733105671420144\n",
      "5.164102564102565 0.15172791148768539\n",
      "5.389743589743591 0.15101828875577536\n",
      "5.615384615384616 0.15559489074673064\n",
      "5.841025641025642 0.16479010302175667\n",
      "6.066666666666667 0.17535778408183772\n",
      "6.292307692307693 0.1832683286668213\n",
      "6.517948717948719 0.1870036907992996\n",
      "6.7435897435897445 0.18623606884429544\n",
      "6.96923076923077 0.17910146879678412\n",
      "7.194871794871796 0.16591124650921688\n",
      "7.420512820512822 0.14905770239648966\n",
      "7.646153846153847 0.13117235387253454\n",
      "7.871794871794873 0.11533984321606466\n",
      "8.097435897435899 0.10571451383298842\n",
      "8.323076923076924 0.10281744690381671\n",
      "8.548717948717949 0.10458004026558326\n",
      "8.774358974358975 0.10779296470794168\n",
      "9.0 0.10954433906207159\n"
     ]
    }
   ],
   "source": [
    "def distance(r1, r2):\n",
    "    d = np.linalg.norm(r2 - r1)\n",
    "    return d\n",
    "\n",
    "r_cut = np.linspace(0.2, 9.0, 40)\n",
    "for j in range(len(r_cut)):\n",
    "    sum = 0.0\n",
    "    for i in range(n_tot):\n",
    "        if(distance(r[i], r_cs)>r_cut[j]):\n",
    "            sum+=data[i]\n",
    "            \n",
    "    print(r_cut[j], sum/n_tot)\n",
    "          "
   ]
  },
  {
   "cell_type": "code",
   "execution_count": null,
   "id": "desperate-duplicate",
   "metadata": {},
   "outputs": [],
   "source": []
  }
 ],
 "metadata": {
  "kernelspec": {
   "display_name": "Python 3",
   "language": "python",
   "name": "python3"
  },
  "language_info": {
   "codemirror_mode": {
    "name": "ipython",
    "version": 3
   },
   "file_extension": ".py",
   "mimetype": "text/x-python",
   "name": "python",
   "nbconvert_exporter": "python",
   "pygments_lexer": "ipython3",
   "version": "3.7.12"
  }
 },
 "nbformat": 4,
 "nbformat_minor": 5
}
