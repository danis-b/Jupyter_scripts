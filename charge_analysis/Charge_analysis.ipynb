{
 "cells": [
  {
   "cell_type": "code",
   "execution_count": null,
   "id": "personalized-multimedia",
   "metadata": {},
   "outputs": [],
   "source": [
    "import numpy as np\n",
    "from datetime import datetime\n",
    "\n",
    "\n",
    "n1 = 120\n",
    "n2 = 168\n",
    "n3 = 384\n",
    "n_tot =  n1*n2*n3\n",
    "data = np.array(n_tot)\n",
    "\n",
    "vecs = np.array([[13.74489,    0.000000,    0.000000],\n",
    "                 [0.000000,   19.438200,    0.000000], \n",
    "                 [0.000000,    0.000000,   42.908154]])\n",
    "\n",
    "\n",
    "r = np.zeros((n_tot,3))\n",
    "r_cs = np.array([6.872445107, 7.634566784, 22.91703033])\n",
    "\n",
    "i = 0\n",
    "for c1 in range(n3):\n",
    "    for b1 in range(n2):\n",
    "        for a1 in range(n1):\n",
    "            for j in range(3):\n",
    "                r[i][j] = (vecs[0][j] * a1) / n1 + (vecs[1][j] * b1) / n2 + (vecs[2][j] * c1) / n3  \n",
    "            i+=1    \n",
    "\n",
    "print('vector array was constructed!')   "
   ]
  },
  {
   "cell_type": "code",
   "execution_count": null,
   "id": "worth-equilibrium",
   "metadata": {},
   "outputs": [],
   "source": [
    "data = np.genfromtxt('CHGCAR_dp', skip_header=191)\n",
    "# data = np.loadtxt('data.dat')\n",
    "data = data.reshape(-1)\n",
    "\n",
    "sum = np.sum(data)\n",
    "print(sum/n_tot)\n",
    "\n",
    "print('data was read!')   "
   ]
  },
  {
   "cell_type": "code",
   "execution_count": null,
   "id": "handed-craft",
   "metadata": {
    "scrolled": true
   },
   "outputs": [],
   "source": [
    "def distance(r1, r2):\n",
    "    d = np.linalg.norm(r2 - r1)\n",
    "    return d\n",
    "\n",
    "r_cut = np.linspace(0.2, 9.0, 40)\n",
    "for j in range(len(r_cut)):\n",
    "    sum = 0.0\n",
    "    for i in range(n_tot):\n",
    "        if(distance(r[i], r_cs)>r_cut[j]):\n",
    "            sum+=data[i]\n",
    "            \n",
    "    print(r_cut[j], sum/n_tot)\n",
    "          "
   ]
  },
  {
   "cell_type": "code",
   "execution_count": null,
   "id": "desperate-duplicate",
   "metadata": {},
   "outputs": [],
   "source": []
  }
 ],
 "metadata": {
  "kernelspec": {
   "display_name": "Python 3",
   "language": "python",
   "name": "python3"
  },
  "language_info": {
   "codemirror_mode": {
    "name": "ipython",
    "version": 3
   },
   "file_extension": ".py",
   "mimetype": "text/x-python",
   "name": "python",
   "nbconvert_exporter": "python",
   "pygments_lexer": "ipython3",
   "version": "3.7.12"
  }
 },
 "nbformat": 4,
 "nbformat_minor": 5
}
