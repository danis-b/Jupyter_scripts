{
 "cells": [
  {
   "cell_type": "code",
   "execution_count": 1,
   "id": "tracked-wagon",
   "metadata": {},
   "outputs": [
    {
     "name": "stdout",
     "output_type": "stream",
     "text": [
      "Total number of electrons:  1.0000000000001195\n"
     ]
    }
   ],
   "source": [
    "import numpy as np\n",
    "\n",
    "\n",
    "def normalize(W, n):\n",
    "    \n",
    "    norm = 0\n",
    "    for i in range(n):\n",
    "        norm += W[i]\n",
    "        \n",
    "    for i in range(n):\n",
    "        W[i] = W[i]/norm\n",
    "    \n",
    "    return W\n",
    "        \n",
    "\n",
    "W = np.genfromtxt('1.dat', dtype=float)\n",
    "W = W.reshape(-1)\n",
    "n = len(W)\n",
    "   \n",
    "\n",
    "normalize(W, n)\n",
    "print(\"Total number of electrons: \", sum(W))\n"
   ]
  },
  {
   "cell_type": "code",
   "execution_count": 3,
   "id": "radio-vegetation",
   "metadata": {},
   "outputs": [
    {
     "name": "stdout",
     "output_type": "stream",
     "text": [
      "Ex = -0.066133 Ryd\n",
      "Ec = -0.021767 Ryd\n"
     ]
    }
   ],
   "source": [
    "#Hedin, Lundqvist  (J. Phys. C: Solid St. Phys., 1971. Vol. 4)\n",
    "\n",
    "Energy_x = 0\n",
    "for i in range(n):\n",
    "    Energy_x +=  -1.5*pow((3/np.pi),1/3)*pow(W[i],4/3)   \n",
    "    \n",
    "print(\"E_x = {:.6f}\".format(Energy_x), \"Ryd\")  \n",
    "\n",
    "mu_x = 0\n",
    "for i in range(n):\n",
    "    mu_x +=  -2*pow((3/np.pi),1/3)*pow(W[i],1/3)   \n",
    "    \n",
    "print(\"mu_x = {:.6f}\".format(mu_x), \"Ryd\")\n",
    "\n",
    "\n",
    " \n",
    "x = pow((3/(4*np.pi*W)),1/3)/21\n",
    "Ec  = -0.0225*((1+pow(x,3))*np.log(1 + 1/x) + x/2 - pow(x,2)- 1/3)\n",
    "\n",
    "Energy_c = 0\n",
    "for i in range(n):\n",
    "    Energy_c += W[i]*Ec[i]\n",
    "    \n",
    "print(\"Ec = {:.6f}\".format(Energy_c),\"Ryd\") "
   ]
  },
  {
   "cell_type": "code",
   "execution_count": null,
   "id": "fossil-spread",
   "metadata": {},
   "outputs": [],
   "source": []
  }
 ],
 "metadata": {
  "kernelspec": {
   "display_name": "Python 3",
   "language": "python",
   "name": "python3"
  },
  "language_info": {
   "codemirror_mode": {
    "name": "ipython",
    "version": 3
   },
   "file_extension": ".py",
   "mimetype": "text/x-python",
   "name": "python",
   "nbconvert_exporter": "python",
   "pygments_lexer": "ipython3",
   "version": "3.7.12"
  }
 },
 "nbformat": 4,
 "nbformat_minor": 5
}
