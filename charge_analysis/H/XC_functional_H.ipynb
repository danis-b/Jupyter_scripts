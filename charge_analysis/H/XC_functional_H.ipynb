{
 "cells": [
  {
   "cell_type": "code",
   "execution_count": 1,
   "id": "tracked-wagon",
   "metadata": {},
   "outputs": [
    {
     "name": "stdout",
     "output_type": "stream",
     "text": [
      "Total number of electrons:  0.9999999999998055\n"
     ]
    }
   ],
   "source": [
    "import numpy as np\n",
    "\n",
    "def normalize(W, n):\n",
    "    \n",
    "    norm = 0\n",
    "    for i in range(n):\n",
    "        norm += (W[i]*W[i])\n",
    "        \n",
    "    for i in range(n):\n",
    "        W[i] = W[i]/np.sqrt(norm)\n",
    "    \n",
    "    return W\n",
    "        \n",
    "\n",
    "\n",
    "W = np.genfromtxt('2.dat', dtype=float)\n",
    "W = W.reshape(-1)\n",
    "n = len(W)\n",
    "   \n",
    "\n",
    "normalize(W, n)\n",
    "rho = W**2\n",
    "print(\"Total number of electrons: \", sum(rho))"
   ]
  },
  {
   "cell_type": "code",
   "execution_count": 2,
   "id": "radio-vegetation",
   "metadata": {},
   "outputs": [
    {
     "name": "stdout",
     "output_type": "stream",
     "text": [
      "E_x = -1.529898 eV\n",
      "E_c = -0.617522 eV\n",
      "mu_x = -26029.340868 eV\n",
      "mu_c = -26029.340868 eV\n"
     ]
    }
   ],
   "source": [
    "#Hedin, Lundqvist  (J. Phys. C: Solid St. Phys., 1971. Vol. 4)\n",
    "\n",
    "Energy_x = 0\n",
    "const  = -1.5*pow((3/np.pi),1/3)\n",
    "for i in range(n):\n",
    "    Energy_x += const*pow(rho[i],4/3)*13.6   \n",
    "    \n",
    "print(\"E_x = {:.6f}\".format(Energy_x), \"eV\")  \n",
    "\n",
    "\n",
    "x = pow((3/(4*np.pi*rho)),1/3)/21\n",
    "Ec  = -0.045*((1+pow(x,3))*np.log(1 + 1/x) + x/2 - pow(x,2)- 1/3)\n",
    "\n",
    "Energy_c = 0\n",
    "for i in range(n):\n",
    "    Energy_c += rho[i]*Ec[i]*13.6\n",
    "    \n",
    "print(\"E_c = {:.6f}\".format(Energy_c),\"eV\") \n",
    "\n",
    "##########################\n",
    "\n",
    "mu_x = 0\n",
    "for i in range(n):\n",
    "    mu_x +=  -2*pow((3/np.pi),1/3)*pow(rho[i],1/3)*13.6   \n",
    "    \n",
    "print(\"mu_x = {:.6f}\".format(mu_x), \"eV\")\n",
    "\n",
    "\n",
    "mu_c = 0\n",
    "for i in range(n):\n",
    "    mu_c +=  -0.045*np.log(1 + 1/x[i])*13.6  \n",
    "    \n",
    "print(\"mu_c = {:.6f}\".format(mu_x), \"eV\")\n"
   ]
  },
  {
   "cell_type": "code",
   "execution_count": 5,
   "id": "fossil-spread",
   "metadata": {},
   "outputs": [
    {
     "name": "stdout",
     "output_type": "stream",
     "text": [
      "E_x = -0.110622 eV\n"
     ]
    }
   ],
   "source": [
    "#Haule, PRL  115 196403  (2015)\n",
    "\n",
    "rs  = pow((3/(4*np.pi*rho)),1/3)\n",
    "C  =  1.5*pow((9/(4*np.pi**2)),1/3)\n",
    "x =  pow((9*np.pi/4),1/3) * (1/rs)\n",
    "\n",
    "Energy_x = 0\n",
    "for i in range(n):\n",
    "    Energy_x += -(C/rs[i]) * rho[i]* (1 - 1/(6*pow(x[i],2)) - 4*np.arctan(2*x[i])/(3*x[i]) + (12*pow(x[i],2) + 1)*np.log(1 + 4*pow(x[i],2))/(24*pow(x[i],4))) \n",
    "\n",
    "\n",
    "print(\"E_x = {:.6f}\".format(Energy_x), \"eV\")      \n",
    "\n"
   ]
  }
 ],
 "metadata": {
  "kernelspec": {
   "display_name": "Python 3",
   "language": "python",
   "name": "python3"
  },
  "language_info": {
   "codemirror_mode": {
    "name": "ipython",
    "version": 3
   },
   "file_extension": ".py",
   "mimetype": "text/x-python",
   "name": "python",
   "nbconvert_exporter": "python",
   "pygments_lexer": "ipython3",
   "version": "3.7.12"
  }
 },
 "nbformat": 4,
 "nbformat_minor": 5
}
