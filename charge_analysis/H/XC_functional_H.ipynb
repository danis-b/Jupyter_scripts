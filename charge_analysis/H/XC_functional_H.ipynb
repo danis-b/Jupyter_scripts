{
 "cells": [
  {
   "cell_type": "code",
   "execution_count": 1,
   "id": "planned-judgment",
   "metadata": {},
   "outputs": [
    {
     "name": "stdout",
     "output_type": "stream",
     "text": [
      "vector array was constructed!\n"
     ]
    }
   ],
   "source": [
    "import numpy as np\n",
    "from random import randrange\n",
    "\n",
    "\n",
    "\n",
    "vecs = [[10.5467958,   0.0000000,   0.0000000], \n",
    "     [0.0000000,  10.5467958,   0.0000000], \n",
    "     [0.0000000,   0.0000000,  10.5467958]]\n",
    "\n",
    "r_cs = np.array([5, 5, 5])\n",
    "\n",
    "n1 = 288\n",
    "n2 = 288\n",
    "n3 = 288\n",
    "n_tot = n1*n2*n3\n",
    "\n",
    "\n",
    "r = np.zeros((n_tot,3), dtype=float)\n",
    "\n",
    "\n",
    "i = 0\n",
    "for c1 in range(n3):\n",
    "    for b1 in range(n2):\n",
    "        for a1 in range(n1):\n",
    "            for j in range(3):\n",
    "                r[i][j] = (vecs[0][j] * a1) / n1 + (vecs[1][j] * b1) / n2 + (vecs[2][j] * c1) / n3  \n",
    "                    \n",
    "            i+=1    \n",
    "\n",
    "print('vector array was constructed!')  "
   ]
  },
  {
   "cell_type": "code",
   "execution_count": 2,
   "id": "introductory-domestic",
   "metadata": {},
   "outputs": [
    {
     "name": "stdout",
     "output_type": "stream",
     "text": [
      "Total number of electrons:  1.000001331465872\n"
     ]
    }
   ],
   "source": [
    "def normalize(W, n_tot):\n",
    "    \n",
    "    norm = 0\n",
    "    for i in range(n_tot):\n",
    "        norm += (W[i]*W[i])\n",
    "        \n",
    "    for i in range(n_tot):\n",
    "        W[i] = W[i]/np.sqrt(norm)\n",
    "    \n",
    "    return W\n",
    "\n",
    "\n",
    "W = np.genfromtxt('data.dat', dtype=float)\n",
    "W = W.reshape(-1)\n",
    "assert(n_tot == len(W)) \n",
    "   \n",
    "\n",
    "# normalize(W, n_tot)\n",
    "rho = W**2/n_tot\n",
    "print(\"Total number of electrons: \", sum(rho))"
   ]
  },
  {
   "cell_type": "code",
   "execution_count": 3,
   "id": "tracked-wagon",
   "metadata": {},
   "outputs": [
    {
     "ename": "KeyboardInterrupt",
     "evalue": "",
     "output_type": "error",
     "traceback": [
      "\u001b[0;31m---------------------------------------------------------------------------\u001b[0m",
      "\u001b[0;31mKeyboardInterrupt\u001b[0m                         Traceback (most recent call last)",
      "\u001b[0;32m<ipython-input-3-b5bd55a34037>\u001b[0m in \u001b[0;36m<module>\u001b[0;34m\u001b[0m\n\u001b[1;32m     14\u001b[0m         \u001b[0mj\u001b[0m \u001b[0;34m=\u001b[0m \u001b[0mrandrange\u001b[0m\u001b[0;34m(\u001b[0m\u001b[0mn_tot\u001b[0m\u001b[0;34m)\u001b[0m\u001b[0;34m\u001b[0m\u001b[0;34m\u001b[0m\u001b[0m\n\u001b[1;32m     15\u001b[0m         \u001b[0;32mif\u001b[0m \u001b[0;34m(\u001b[0m\u001b[0mi\u001b[0m \u001b[0;34m!=\u001b[0m \u001b[0mj\u001b[0m\u001b[0;34m)\u001b[0m\u001b[0;34m:\u001b[0m\u001b[0;34m\u001b[0m\u001b[0;34m\u001b[0m\u001b[0m\n\u001b[0;32m---> 16\u001b[0;31m             \u001b[0mJ_Hartree\u001b[0m \u001b[0;34m+=\u001b[0m \u001b[0mrho\u001b[0m\u001b[0;34m[\u001b[0m\u001b[0mi\u001b[0m\u001b[0;34m]\u001b[0m \u001b[0;34m*\u001b[0m \u001b[0mrho\u001b[0m\u001b[0;34m[\u001b[0m\u001b[0mj\u001b[0m\u001b[0;34m]\u001b[0m \u001b[0;34m/\u001b[0m \u001b[0mdistance\u001b[0m\u001b[0;34m(\u001b[0m\u001b[0mr\u001b[0m\u001b[0;34m[\u001b[0m\u001b[0mi\u001b[0m\u001b[0;34m]\u001b[0m\u001b[0;34m,\u001b[0m \u001b[0mr\u001b[0m\u001b[0;34m[\u001b[0m\u001b[0mj\u001b[0m\u001b[0;34m]\u001b[0m\u001b[0;34m)\u001b[0m\u001b[0;34m\u001b[0m\u001b[0;34m\u001b[0m\u001b[0m\n\u001b[0m\u001b[1;32m     17\u001b[0m \u001b[0;34m\u001b[0m\u001b[0m\n\u001b[1;32m     18\u001b[0m \u001b[0mJ_Hartree\u001b[0m \u001b[0;34m=\u001b[0m  \u001b[0;36m14.3948\u001b[0m\u001b[0;34m*\u001b[0m\u001b[0;34m(\u001b[0m\u001b[0mn_tot\u001b[0m\u001b[0;34m**\u001b[0m\u001b[0;36m2\u001b[0m \u001b[0;34m/\u001b[0m \u001b[0mn_sweeps\u001b[0m\u001b[0;34m)\u001b[0m\u001b[0;34m*\u001b[0m \u001b[0mJ_Hartree\u001b[0m\u001b[0;34m\u001b[0m\u001b[0;34m\u001b[0m\u001b[0m\n",
      "\u001b[0;32m<ipython-input-3-b5bd55a34037>\u001b[0m in \u001b[0;36mdistance\u001b[0;34m(r1, r2)\u001b[0m\n\u001b[1;32m      2\u001b[0m \u001b[0;34m\u001b[0m\u001b[0m\n\u001b[1;32m      3\u001b[0m \u001b[0;32mdef\u001b[0m \u001b[0mdistance\u001b[0m\u001b[0;34m(\u001b[0m\u001b[0mr1\u001b[0m\u001b[0;34m,\u001b[0m \u001b[0mr2\u001b[0m\u001b[0;34m)\u001b[0m\u001b[0;34m:\u001b[0m\u001b[0;34m\u001b[0m\u001b[0;34m\u001b[0m\u001b[0m\n\u001b[0;32m----> 4\u001b[0;31m     \u001b[0md\u001b[0m \u001b[0;34m=\u001b[0m \u001b[0mnp\u001b[0m\u001b[0;34m.\u001b[0m\u001b[0mlinalg\u001b[0m\u001b[0;34m.\u001b[0m\u001b[0mnorm\u001b[0m\u001b[0;34m(\u001b[0m\u001b[0mr2\u001b[0m \u001b[0;34m-\u001b[0m \u001b[0mr1\u001b[0m\u001b[0;34m)\u001b[0m\u001b[0;34m\u001b[0m\u001b[0;34m\u001b[0m\u001b[0m\n\u001b[0m\u001b[1;32m      5\u001b[0m     \u001b[0;32mreturn\u001b[0m \u001b[0md\u001b[0m\u001b[0;34m\u001b[0m\u001b[0;34m\u001b[0m\u001b[0m\n\u001b[1;32m      6\u001b[0m \u001b[0;34m\u001b[0m\u001b[0m\n",
      "\u001b[0;32m<__array_function__ internals>\u001b[0m in \u001b[0;36mnorm\u001b[0;34m(*args, **kwargs)\u001b[0m\n",
      "\u001b[0;32m~/Library/Python/3.7/lib/python/site-packages/numpy/linalg/linalg.py\u001b[0m in \u001b[0;36mnorm\u001b[0;34m(x, ord, axis, keepdims)\u001b[0m\n\u001b[1;32m   2528\u001b[0m             \u001b[0;32melse\u001b[0m\u001b[0;34m:\u001b[0m\u001b[0;34m\u001b[0m\u001b[0;34m\u001b[0m\u001b[0m\n\u001b[1;32m   2529\u001b[0m                 \u001b[0msqnorm\u001b[0m \u001b[0;34m=\u001b[0m \u001b[0mdot\u001b[0m\u001b[0;34m(\u001b[0m\u001b[0mx\u001b[0m\u001b[0;34m,\u001b[0m \u001b[0mx\u001b[0m\u001b[0;34m)\u001b[0m\u001b[0;34m\u001b[0m\u001b[0;34m\u001b[0m\u001b[0m\n\u001b[0;32m-> 2530\u001b[0;31m             \u001b[0mret\u001b[0m \u001b[0;34m=\u001b[0m \u001b[0msqrt\u001b[0m\u001b[0;34m(\u001b[0m\u001b[0msqnorm\u001b[0m\u001b[0;34m)\u001b[0m\u001b[0;34m\u001b[0m\u001b[0;34m\u001b[0m\u001b[0m\n\u001b[0m\u001b[1;32m   2531\u001b[0m             \u001b[0;32mif\u001b[0m \u001b[0mkeepdims\u001b[0m\u001b[0;34m:\u001b[0m\u001b[0;34m\u001b[0m\u001b[0;34m\u001b[0m\u001b[0m\n\u001b[1;32m   2532\u001b[0m                 \u001b[0mret\u001b[0m \u001b[0;34m=\u001b[0m \u001b[0mret\u001b[0m\u001b[0;34m.\u001b[0m\u001b[0mreshape\u001b[0m\u001b[0;34m(\u001b[0m\u001b[0mndim\u001b[0m\u001b[0;34m*\u001b[0m\u001b[0;34m[\u001b[0m\u001b[0;36m1\u001b[0m\u001b[0;34m]\u001b[0m\u001b[0;34m)\u001b[0m\u001b[0;34m\u001b[0m\u001b[0;34m\u001b[0m\u001b[0m\n",
      "\u001b[0;31mKeyboardInterrupt\u001b[0m: "
     ]
    }
   ],
   "source": [
    "#Hartree  term\n",
    "\n",
    "def distance(r1, r2):\n",
    "    d = np.linalg.norm(r2 - r1)\n",
    "    return d\n",
    "\n",
    "\n",
    "\n",
    "n_sweeps = int(1e8)\n",
    "\n",
    "J_Hartree = 0.0\n",
    "for i in range(n_sweeps):\n",
    "        i = randrange(n_tot)\n",
    "        j = randrange(n_tot)\n",
    "        if (i != j):\n",
    "            J_Hartree += rho[i] * rho[j] / distance(r[i], r[j])\n",
    "            \n",
    "J_Hartree =  14.3948*(n_tot**2 / n_sweeps)* J_Hartree  \n",
    "\n",
    "print(J_Hartree)"
   ]
  },
  {
   "cell_type": "code",
   "execution_count": null,
   "id": "radio-vegetation",
   "metadata": {},
   "outputs": [],
   "source": [
    "#Hedin, Lundqvist  (J. Phys. C: Solid St. Phys., 1971. Vol. 4)\n",
    "\n",
    "Energy_x = 0\n",
    "const  = -1.5*pow((3/np.pi),1/3)\n",
    "for i in range(n):\n",
    "    Energy_x += const*pow(rho[i],4/3)*13.6   \n",
    "    \n",
    "print(\"E_x = {:.6f}\".format(Energy_x), \"eV\")  \n",
    "\n",
    "\n",
    "x = pow((3/(4*np.pi*rho)),1/3)/21\n",
    "Ec  = -0.045*((1+pow(x,3))*np.log(1 + 1/x) + x/2 - pow(x,2)- 1/3)\n",
    "\n",
    "Energy_c = 0\n",
    "for i in range(n):\n",
    "    Energy_c += rho[i]*Ec[i]*13.6\n",
    "    \n",
    "print(\"E_c = {:.6f}\".format(Energy_c),\"eV\") \n",
    "\n",
    "##########################"
   ]
  }
 ],
 "metadata": {
  "kernelspec": {
   "display_name": "Python 3",
   "language": "python",
   "name": "python3"
  },
  "language_info": {
   "codemirror_mode": {
    "name": "ipython",
    "version": 3
   },
   "file_extension": ".py",
   "mimetype": "text/x-python",
   "name": "python",
   "nbconvert_exporter": "python",
   "pygments_lexer": "ipython3",
   "version": "3.7.12"
  }
 },
 "nbformat": 4,
 "nbformat_minor": 5
}
