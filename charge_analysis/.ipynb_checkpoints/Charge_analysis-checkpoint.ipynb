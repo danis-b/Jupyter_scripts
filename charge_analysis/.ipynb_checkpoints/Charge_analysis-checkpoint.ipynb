{
 "cells": [
  {
   "cell_type": "code",
   "execution_count": 1,
   "id": "threaded-disco",
   "metadata": {},
   "outputs": [
    {
     "name": "stdout",
     "output_type": "stream",
     "text": [
      "vector array was constructed!\n"
     ]
    }
   ],
   "source": [
    "import numpy as np\n",
    "from datetime import datetime\n",
    "\n",
    "\n",
    "n1 = 120\n",
    "n2 = 168\n",
    "n3 = 384\n",
    "n_tot =  n1*n2*n3\n",
    "data = np.array(n_tot)\n",
    "\n",
    "vecs = np.array([[13.744890,    0.000000,    0.000000],\n",
    "                 [0.000000,   19.438200,    0.000000], \n",
    "                 [0.000000,    0.000000,   42.908152]])\n",
    "\n",
    "\n",
    "r = np.zeros((n_tot,3))\n",
    "r_cs = np.array([6.872445107,  7.752070904,  22.645679474])\n",
    "\n",
    "i = 0\n",
    "for c1 in range(n3):\n",
    "    for b1 in range(n2):\n",
    "        for a1 in range(n1):\n",
    "            for j in range(3):\n",
    "                r[i][j] = (vecs[0][j] * a1) / n1 + (vecs[1][j] * b1) / n2 + (vecs[2][j] * c1) / n3  \n",
    "            i+=1    \n",
    "\n",
    "print('vector array was constructed!')   "
   ]
  },
  {
   "cell_type": "code",
   "execution_count": 2,
   "id": "inappropriate-hartford",
   "metadata": {},
   "outputs": [
    {
     "name": "stdout",
     "output_type": "stream",
     "text": [
      "data was read!\n"
     ]
    }
   ],
   "source": [
    "data = np.genfromtxt('CHGCAR_cs', skip_header=11)\n",
    "# data = np.loadtxt('data.dat')\n",
    "data = data.reshape(-1)\n",
    "\n",
    "print('data was read!')   "
   ]
  },
  {
   "cell_type": "code",
   "execution_count": 12,
   "id": "cardiovascular-portugal",
   "metadata": {},
   "outputs": [
    {
     "name": "stdout",
     "output_type": "stream",
     "text": [
      "1.9546390568363763\n"
     ]
    }
   ],
   "source": [
    "def distance(r1, r2):\n",
    "    d = np.linalg.norm(r2 - r1)\n",
    "    return d\n",
    "\n",
    "r_cut = 6.0\n",
    "sum = 0.0\n",
    "for i in range(n_tot):\n",
    "    if(distance(r[i], r_cs)<r_cut):\n",
    "        sum+=data[i]\n",
    "    \n",
    "print(sum/n_tot)\n",
    "      "
   ]
  },
  {
   "cell_type": "code",
   "execution_count": null,
   "id": "legitimate-drawing",
   "metadata": {},
   "outputs": [],
   "source": []
  }
 ],
 "metadata": {
  "kernelspec": {
   "display_name": "Python 3",
   "language": "python",
   "name": "python3"
  },
  "language_info": {
   "codemirror_mode": {
    "name": "ipython",
    "version": 3
   },
   "file_extension": ".py",
   "mimetype": "text/x-python",
   "name": "python",
   "nbconvert_exporter": "python",
   "pygments_lexer": "ipython3",
   "version": "3.7.12"
  }
 },
 "nbformat": 4,
 "nbformat_minor": 5
}
