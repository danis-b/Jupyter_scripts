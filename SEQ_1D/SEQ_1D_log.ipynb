{
 "cells": [
  {
   "cell_type": "markdown",
   "metadata": {},
   "source": [
    "# SEQ 1D\n",
    "\n",
    "Schrödinger equation is given as:\n",
    "\n",
    "$$\n",
    "(-\\frac{1}{2m} \\frac{d^2}{d^2 x}  - \\frac{Ze^2}{x - d}) \\Psi(x) = E \\Psi(x) \n",
    "$$\n",
    "\n",
    "$$\n",
    "\\frac{d^2 \\Psi(x)}{d^2 x} = \\frac{\\Psi(x+1) - 2\\Psi(x) + \\Psi(x-1)}{\\Delta x^2}  \n",
    "$$\n",
    "\n",
    "\n",
    "$$\n",
    "-\\frac{1}{2m}\\frac{\\Psi(x+1) - 2\\Psi(x) + \\Psi(x-1)}{\\Delta x^2} - \\hat{V}(x)\\Psi(x) = E \\Psi(x)  \n",
    "\\\\\n",
    "\\\\\n",
    "$$\n",
    "Let's consider the following boundary conditions:\n",
    "$$\n",
    "\\Psi(0) = \\Psi(N) = 0\n",
    "$$\n",
    "\n",
    "Then Schrödinger equation will take the following form:\n",
    "$$\n",
    "\\begin{pmatrix}\n",
    "-\\frac{1}{m \\Delta x^2} - \\hat{V}(x_1)  &  -\\frac{1}{2m \\Delta x^2} & 0 & ... & 0 & 0 \\\\ \n",
    "-\\frac{1}{2m \\Delta x^2} &   -\\frac{1}{m \\Delta x^2} - \\hat{V}(x_2) & -\\frac{1}{2m \\Delta x^2} & ... & 0 & 0 \\\\\n",
    "...  &  ... & ... & ... & ... \\\\ \n",
    "0 & 0 & ... &-\\frac{1}{2m \\Delta x^2} &   -\\frac{1}{m \\Delta x^2} - \\hat{V}(x_{N})  \\\\\n",
    "\\end{pmatrix} \n",
    "\\begin{pmatrix}\n",
    "\\Psi(x_1) \\\\\n",
    "\\Psi(x_2) \\\\\n",
    "...  \\\\\n",
    "\\Psi(x_{N-1}\\\\\n",
    "\\end{pmatrix} \n",
    "= E \n",
    "\\begin{pmatrix}\n",
    "\\Psi(x_1) \\\\\n",
    "\\Psi(x_2) \\\\\n",
    "...  \\\\\n",
    "\\Psi(x_{N-1}\\\\\n",
    "\\end{pmatrix}\n",
    "$$"
   ]
  },
  {
   "cell_type": "code",
   "execution_count": 27,
   "metadata": {},
   "outputs": [
    {
     "name": "stdout",
     "output_type": "stream",
     "text": [
      "[ 1.          1.25892541  1.58489319  1.99526231  2.51188643  3.16227766\n",
      "  3.98107171  5.01187234  6.30957344  7.94328235 10.        ]\n",
      "[-596.59358565 -378.53254423 -241.5575318  -156.49296595 -107.47473203\n",
      " -457.32299533  -48.64774826  -28.54881     -17.79358913]\n"
     ]
    }
   ],
   "source": [
    "import numpy as np\n",
    "import matplotlib.pylab as plt\n",
    "from scipy.linalg import eigh_tridiagonal\n",
    "\n",
    "\n",
    "\n",
    "def get_potential(x,Zval):\n",
    "    V = -14.3948*(Zval/(abs(x  - 4) + 0.01)) # we multiply to 14.3948  to convert to eV\n",
    "#     V = 100*x**2\n",
    "    return V\n",
    "\n",
    "\n",
    "N = 10\n",
    "L = 10\n",
    "Zval = 0.8 # effective charge\n",
    "m = 0.02   # effective mass\n",
    "\n",
    "x = np.logspace(np.log10(1), np.log10(L), N+1, dtype=float) # in Ang\n",
    "\n",
    "dx = np.zeros(N)\n",
    "\n",
    "for i in range(N):\n",
    "    dx[i] = x[i+1] - x[i]  \n",
    "    \n",
    "    \n",
    "\n",
    "\n",
    "V  = get_potential(x,Zval)\n",
    "\n",
    "\n",
    "d = np.zeros(N-1)\n",
    "e = np.zeros(N-2)\n",
    "\n",
    "for i in range(N-1):\n",
    "    d[i] = -1/(m * dx[i]*dx[i+1]) + V[i+1]\n",
    "    \n",
    "for i in range(N-2):\n",
    "    e[i] = -1/(2*m * dx[i]*dx[i+1])\n",
    "    \n",
    "print(x)\n",
    "print(d)\n",
    "\n",
    "# eigenvalues, eigenvectors = eigh_tridiagonal(d,e)\n",
    "\n",
    "# eigenvectors = eigenvectors.T\n",
    "\n",
    "# for i in range(1):\n",
    "#     plt.plot(x[1:-1],eigenvectors[i]**2, label=f'{i}')\n",
    "#     plt.legend()"
   ]
  },
  {
   "cell_type": "code",
   "execution_count": 40,
   "metadata": {
    "scrolled": true
   },
   "outputs": [
    {
     "data": {
      "text/plain": [
       "Text(0.5, 0, 'Eigenstates')"
      ]
     },
     "execution_count": 40,
     "metadata": {},
     "output_type": "execute_result"
    },
    {
     "data": {
      "image/png": "[encoded data removed]",
      "text/plain": [
       "<Figure size 432x288 with 1 Axes>"
      ]
     },
     "metadata": {
      "needs_background": "light"
     },
     "output_type": "display_data"
    }
   ],
   "source": [
    "plt.bar(np.arange(1,11,1), eigenvalues[1:11]- eigenvalues[0])\n",
    "plt.ylabel('Energy (eV)')\n",
    "plt.xlabel('Eigenstates')"
   ]
  },
  {
   "cell_type": "code",
   "execution_count": null,
   "metadata": {},
   "outputs": [],
   "source": []
  }
 ],
 "metadata": {
  "kernelspec": {
   "display_name": "Python 3",
   "language": "python",
   "name": "python3"
  },
  "language_info": {
   "codemirror_mode": {
    "name": "ipython",
    "version": 3
   },
   "file_extension": ".py",
   "mimetype": "text/x-python",
   "name": "python",
   "nbconvert_exporter": "python",
   "pygments_lexer": "ipython3",
   "version": "3.7.12"
  }
 },
 "nbformat": 4,
 "nbformat_minor": 4
}
