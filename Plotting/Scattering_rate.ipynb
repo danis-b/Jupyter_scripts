{
 "cells": [
  {
   "cell_type": "code",
   "execution_count": 33,
   "id": "studied-biodiversity",
   "metadata": {},
   "outputs": [
    {
     "name": "stdout",
     "output_type": "stream",
     "text": [
      "208.51596468870358\n"
     ]
    }
   ],
   "source": [
    "import numpy as np\n",
    "import matplotlib.pyplot as plt\n",
    "import matplotlib.colors as colors\n",
    "\n",
    "\n",
    "\n",
    "tau = np.zeros((4096,24))\n",
    "ebnd = np.zeros((4096,24))\n",
    "\n",
    "with open('scattering_rate.dat') as fp:\n",
    "    for line in fp:\n",
    "        item = line.split()  \n",
    "        if(line=='\\n' or line.strip()=='' or str.startswith(item[0],'#')):\n",
    "            continue #skip comments and blank lines    \n",
    "        tau[int(item[0])-1][int(item[1])-1] = float(item[3])\n",
    "        ebnd[int(item[0])-1][int(item[1])-1] = float(item[2])\n",
    "\n",
    "\n",
    "print(np.mean(tau)) \n",
    "\n",
    "\n",
    " \n",
    "        \n",
    "  \n",
    "\n",
    "\n",
    "\n",
    "\n",
    "\n",
    "    \n",
    "    \n",
    "\n"
   ]
  },
  {
   "cell_type": "code",
   "execution_count": null,
   "id": "competitive-functionality",
   "metadata": {},
   "outputs": [],
   "source": []
  }
 ],
 "metadata": {
  "kernelspec": {
   "display_name": "Python 3",
   "language": "python",
   "name": "python3"
  },
  "language_info": {
   "codemirror_mode": {
    "name": "ipython",
    "version": 3
   },
   "file_extension": ".py",
   "mimetype": "text/x-python",
   "name": "python",
   "nbconvert_exporter": "python",
   "pygments_lexer": "ipython3",
   "version": "3.7.12"
  }
 },
 "nbformat": 4,
 "nbformat_minor": 5
}
