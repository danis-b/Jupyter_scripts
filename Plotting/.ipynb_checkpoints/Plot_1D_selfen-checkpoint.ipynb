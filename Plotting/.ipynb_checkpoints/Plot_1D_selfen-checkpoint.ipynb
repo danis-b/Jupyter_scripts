{
 "cells": [
  {
   "cell_type": "code",
   "execution_count": 1,
   "id": "anonymous-preparation",
   "metadata": {},
   "outputs": [
    {
     "ename": "FileNotFoundError",
     "evalue": "[Errno 2] No such file or directory: 'bands.dat'",
     "output_type": "error",
     "traceback": [
      "\u001b[0;31m---------------------------------------------------------------------------\u001b[0m",
      "\u001b[0;31mFileNotFoundError\u001b[0m                         Traceback (most recent call last)",
      "\u001b[0;32m<ipython-input-1-65eb779c61c4>\u001b[0m in \u001b[0;36m<module>\u001b[0;34m\u001b[0m\n\u001b[1;32m     17\u001b[0m \u001b[0mi\u001b[0m \u001b[0;34m=\u001b[0m \u001b[0;36m0\u001b[0m\u001b[0;34m\u001b[0m\u001b[0;34m\u001b[0m\u001b[0m\n\u001b[1;32m     18\u001b[0m \u001b[0mj\u001b[0m \u001b[0;34m=\u001b[0m \u001b[0;36m0\u001b[0m\u001b[0;34m\u001b[0m\u001b[0;34m\u001b[0m\u001b[0m\n\u001b[0;32m---> 19\u001b[0;31m \u001b[0;32mwith\u001b[0m \u001b[0mopen\u001b[0m\u001b[0;34m(\u001b[0m\u001b[0;34m'bands.dat'\u001b[0m\u001b[0;34m)\u001b[0m \u001b[0;32mas\u001b[0m \u001b[0mfp\u001b[0m\u001b[0;34m:\u001b[0m\u001b[0;34m\u001b[0m\u001b[0;34m\u001b[0m\u001b[0m\n\u001b[0m\u001b[1;32m     20\u001b[0m     \u001b[0;32mfor\u001b[0m \u001b[0mline\u001b[0m \u001b[0;32min\u001b[0m \u001b[0mfp\u001b[0m\u001b[0;34m:\u001b[0m\u001b[0;34m\u001b[0m\u001b[0;34m\u001b[0m\u001b[0m\n\u001b[1;32m     21\u001b[0m         \u001b[0mj\u001b[0m \u001b[0;34m=\u001b[0m \u001b[0mi\u001b[0m\u001b[0;34m//\u001b[0m\u001b[0;36m40\u001b[0m\u001b[0;34m\u001b[0m\u001b[0;34m\u001b[0m\u001b[0m\n",
      "\u001b[0;31mFileNotFoundError\u001b[0m: [Errno 2] No such file or directory: 'bands.dat'"
     ]
    }
   ],
   "source": [
    "import numpy as np\n",
    "import matplotlib.pyplot as plt\n",
    "import matplotlib.colors as colors\n",
    "\n",
    "\n",
    "nkpt = 1024\n",
    "ntot = 800\n",
    "\n",
    "selfen_up = np.zeros((24,ntot,nkpt))\n",
    "selfen_dn = np.zeros((24,ntot,nkpt))\n",
    "x = np.zeros(ntot)  \n",
    "\n",
    "i = 0\n",
    "with open('selfen_up.dat') as fp:\n",
    "    for line in fp:\n",
    "        if (i == ntot):\n",
    "            i = 0\n",
    "        item = line.split()  \n",
    "        selfen_up[item[1]][i][item[0]] = float(item[4])\n",
    "        i+=1 \n",
    "      \n",
    "        \n",
    "# with open('dos.dat') as fp:\n",
    "#     for i, line in enumerate(fp):\n",
    "#         item = line.split()\n",
    "#         x1[i] = float(item[0])-Ef             \n",
    "#         dos_up[i] = float(item[1])        \n",
    "#         dos_dn[i] = float(item[2])  \n",
    "        \n",
    "fig, (ax1, ax2) = plt.subplots(1, 2, gridspec_kw={'width_ratios': [1, 1]}, figsize=(10,10))\n",
    "\n",
    "\n",
    "        \n",
    "for i in range(24):\n",
    "    ax1.plot(x,bands_up[i,:], color='red', linewidth=2)\n",
    "#    ax1.plot(x,bands_dn[i], color='red', linewidth=1)\n",
    "\n",
    "#ax1.set_aspect(3) \n",
    "ax1.set_title('spin dn', fontsize=18)\n",
    "ax1.grid(color='black', linestyle='dotted', linewidth=0.5)\n",
    "ax1.set_xticks([0, 100, 150, 237])\n",
    "ax1.set_xticklabels(['Г', 'M', 'K', 'Г'])\n",
    "ax1.tick_params(axis = 'both', which = 'major', labelsize = 20)\n",
    "ax1.set_xlim([0, 237])\n",
    "ax1.set_ylim([-7, 4])\n",
    "ax1.set_ylabel('energy (eV)', fontsize=18)  \n",
    "\n",
    "\n",
    "\n",
    "\n",
    "fig.savefig('dn.png', dpi=300)\n"
   ]
  },
  {
   "cell_type": "code",
   "execution_count": null,
   "id": "brown-qatar",
   "metadata": {},
   "outputs": [],
   "source": []
  }
 ],
 "metadata": {
  "kernelspec": {
   "display_name": "Python 3",
   "language": "python",
   "name": "python3"
  },
  "language_info": {
   "codemirror_mode": {
    "name": "ipython",
    "version": 3
   },
   "file_extension": ".py",
   "mimetype": "text/x-python",
   "name": "python",
   "nbconvert_exporter": "python",
   "pygments_lexer": "ipython3",
   "version": "3.7.12"
  }
 },
 "nbformat": 4,
 "nbformat_minor": 5
}
