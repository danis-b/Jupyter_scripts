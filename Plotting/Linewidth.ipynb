{
 "cells": [
  {
   "cell_type": "code",
   "execution_count": 1,
   "id": "anonymous-preparation",
   "metadata": {},
   "outputs": [
    {
     "name": "stdout",
     "output_type": "stream",
     "text": [
      "0.02473372755352732\n"
     ]
    }
   ],
   "source": [
    "import numpy as np\n",
    "import matplotlib.pyplot as plt\n",
    "import matplotlib.colors as colors\n",
    "\n",
    "nbranch = 18\n",
    "kmesh = 2304\n",
    "\n",
    "lwidth = 0.0\n",
    "with open('lwidth.dat') as fp:\n",
    "    for line in fp:\n",
    "        item = line.split()  \n",
    "        if(line=='\\n' or line.strip()=='' or str.startswith(item[0],'#')):\n",
    "            continue #skip comments and blank lines\n",
    "        lwidth+= float(item[3])\n",
    "\n",
    "print(lwidth/(nbranch*kmesh))"
   ]
  },
  {
   "cell_type": "code",
   "execution_count": null,
   "id": "generous-traffic",
   "metadata": {},
   "outputs": [],
   "source": []
  }
 ],
 "metadata": {
  "kernelspec": {
   "display_name": "Python 3",
   "language": "python",
   "name": "python3"
  },
  "language_info": {
   "codemirror_mode": {
    "name": "ipython",
    "version": 3
   },
   "file_extension": ".py",
   "mimetype": "text/x-python",
   "name": "python",
   "nbconvert_exporter": "python",
   "pygments_lexer": "ipython3",
   "version": "3.7.12"
  }
 },
 "nbformat": 4,
 "nbformat_minor": 5
}
