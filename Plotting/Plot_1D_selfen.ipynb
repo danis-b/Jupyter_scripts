{
 "cells": [
  {
   "cell_type": "code",
   "execution_count": 1,
   "id": "anonymous-preparation",
   "metadata": {},
   "outputs": [
    {
     "name": "stdout",
     "output_type": "stream",
     "text": [
      "Files are scanned succesfully\n"
     ]
    }
   ],
   "source": [
    "import numpy as np\n",
    "import matplotlib.pyplot as plt\n",
    "import matplotlib.colors as colors\n",
    "\n",
    "\n",
    "nkpt = 1024\n",
    "ntot = 800\n",
    "\n",
    "selfen_up = np.zeros((24,ntot,nkpt), dtype=complex)\n",
    "selfen_up_sum = np.zeros((24,ntot), dtype=complex)\n",
    "selfen_dn = np.zeros((24,ntot,nkpt), dtype=complex)\n",
    "selfen_dn_sum = np.zeros((24,ntot), dtype=complex)\n",
    "x = np.zeros(ntot)  \n",
    "\n",
    "i = 0\n",
    "j = 0\n",
    "with open('selfen_up.dat') as fp:\n",
    "    for line in fp:\n",
    "        if (i == ntot):\n",
    "            i = 0\n",
    "            j = 1\n",
    "        item = line.split()  \n",
    "        selfen_up[int(item[1])-1][i][int(item[0])-1] =  complex(float(item[4])*0.001, float(item[5])*0.001)\n",
    "        if (j == 0):\n",
    "            x[i] = float(item[3])\n",
    "        i+=1 \n",
    "\n",
    "        \n",
    "for i in range(nkpt):\n",
    "    selfen_up_sum[:,:] +=selfen_up[:,:,i]/nkpt\n",
    "    \n",
    "    \n",
    "i = 0\n",
    "with open('selfen_dn.dat') as fp:\n",
    "    for line in fp:\n",
    "        if (i == ntot):\n",
    "            i = 0\n",
    "        item = line.split()  \n",
    "        selfen_dn[int(item[1])-1][i][int(item[0])-1] = complex(float(item[4])*0.001, float(item[5])*0.001)\n",
    "        i+=1 \n",
    "\n",
    "        \n",
    "for i in range(nkpt):\n",
    "    selfen_dn_sum[:,:] +=selfen_dn[:,:,i]/nkpt   \n",
    "    \n",
    "print('Files are scanned succesfully')    "
   ]
  },
  {
   "cell_type": "code",
   "execution_count": null,
   "id": "waiting-extent",
   "metadata": {},
   "outputs": [],
   "source": [
    "        \n",
    "fig, (ax1, ax2) = plt.subplots(1, 2, gridspec_kw={'width_ratios': [1, 1]}, figsize=(10,10))\n",
    "\n",
    "\n",
    "        \n",
    "for i in range(24):\n",
    "    ax1.plot(x,selfen_up_sum[i,:].real + i*0.1 ,linewidth=2)\n",
    "\n",
    "#ax1.set_aspect(3) \n",
    "ax1.set_title('real part', fontsize=18)\n",
    "ax1.grid(color='black', linestyle='dotted', linewidth=0.5)\n",
    "ax1.tick_params(axis = 'both', which = 'major', labelsize = 20)\n",
    "ax1.set_xlim([-7, 0.1520])\n",
    "ax1.set_ylim([-0.3, 3.3])\n",
    "ax1.set_xlabel('energy (eV)', fontsize=18) \n",
    "\n",
    "\n",
    "for i in range(24):\n",
    "    ax2.plot(x,selfen_up_sum[i,:].imag + i*0.1 ,linewidth=2)\n",
    "\n",
    "#ax1.set_aspect(3) \n",
    "ax2.set_title('imaginary part', fontsize=18)\n",
    "ax2.grid(color='black', linestyle='dotted', linewidth=0.5)\n",
    "ax2.tick_params(axis = 'both', which = 'major', labelsize = 20)\n",
    "ax2.set_xlim([-7, 0.1520])\n",
    "ax2.set_ylim([-0.3, 3.3])\n",
    "ax2.set_xlabel('energy (eV)', fontsize=18) \n",
    "\n",
    "\n",
    "\n",
    "\n",
    "fig.savefig('up.png', dpi=300)\n",
    "\n"
   ]
  },
  {
   "cell_type": "code",
   "execution_count": null,
   "id": "dying-balance",
   "metadata": {},
   "outputs": [],
   "source": []
  }
 ],
 "metadata": {
  "kernelspec": {
   "display_name": "Python 3",
   "language": "python",
   "name": "python3"
  },
  "language_info": {
   "codemirror_mode": {
    "name": "ipython",
    "version": 3
   },
   "file_extension": ".py",
   "mimetype": "text/x-python",
   "name": "python",
   "nbconvert_exporter": "python",
   "pygments_lexer": "ipython3",
   "version": "3.7.12"
  }
 },
 "nbformat": 4,
 "nbformat_minor": 5
}
