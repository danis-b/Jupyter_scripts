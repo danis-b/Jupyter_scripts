{
 "cells": [
  {
   "cell_type": "markdown",
   "metadata": {},
   "source": [
    "# SEQ 2D\n",
    "\n",
    "Schrödinger equation is given as:\n",
    "\n",
    "$$\n",
    "(-\\frac{\\hbar^2}{2m} \\Delta  - \\frac{Ze^2}{r - r_d}) \\Psi = E \\Psi(x,y) \n",
    "$$\n",
    "\n",
    "Laplas operator\n",
    "\n",
    "$$\n",
    "\\Delta = \\frac{\\partial^2}{\\partial^2 x} + \\frac{\\partial^2}{\\partial^2 y} \\\\\n",
    "\\frac{\\partial^2 \\Psi}{\\partial^2 x} = \\frac{\\Psi(x+1) - 2\\Psi(x) + \\Psi(x-1)}{dx^2}  \\\\\n",
    "\\frac{\\partial^2 \\Psi}{\\partial^2 y} = \\frac{\\Psi(y+1) - 2\\Psi(y) + \\Psi(x-1)}{dy^2}  \\\\\n",
    "$$\n",
    "\n",
    "Let's suppose that we have (3x3) grid. Wave function is represented as:\n",
    "$$\n",
    "\\begin{pmatrix}\n",
    "\\Psi_{11} & \\Psi_{12} & \\Psi_{13}  \\\\\n",
    "\\Psi_{21} & \\Psi_{22} & \\Psi_{23}  \\\\\n",
    "\\Psi_{31} & \\Psi_{32} & \\Psi_{33}  \\\\\n",
    "\\end{pmatrix}\n",
    "$$\n",
    "\n",
    "We will present it like vector:\n",
    "$$\n",
    "\\begin{pmatrix}\n",
    "\\Psi_{11} & \\Psi_{12} & \\Psi_{13} &  \\Psi_{21} & \\Psi_{22} & \\Psi_{23} & \\Psi_{31} & \\Psi_{32} & \\Psi_{33} \\\\ \n",
    "\\end{pmatrix}^T\n",
    "$$\n",
    "\n",
    "Within this basis differential operator x will have the followig form:\n",
    "$$\n",
    "\\frac{\\partial^2 }{\\partial^2 y} = \n",
    "\\frac{1}{dx^2}\n",
    "\\begin{pmatrix}\n",
    "-2 & 1 & 0 & 0 & 0 & 0 &   0 & 0 & 0 \\\\\n",
    "1 & -2 & 1 & 0 & 0 & 0 &  0 & 0 & 0  \\\\\n",
    "0 &  1 & -2 & 0 & 0 & 0 & 0 & 0 & 0  \\\\\n",
    "0 & 0 & 0 & -2 & 1 & 0 &   0 & 0 & 0 \\\\\n",
    "0 & 0 & 0 & 1 & -2 & 1 &   0 & 0 & 0 \\\\\n",
    "0 & 0 & 0 & 0 & 1 & -2 &   0 & 0 & 0 \\\\\n",
    "0 & 0 & 0 & 0 & 0 & 0 &   -2 & 1 & 0 \\\\\n",
    "0 & 0 & 0 & 0 & 0 & 0 &   1 & -2 & 1 \\\\\n",
    "0 & 0 & 0 & 0 & 0 & 0 &   0 & 1 & -2 \\\\\n",
    "\\end{pmatrix} = \n",
    "\\frac{1}{dx^2}\n",
    "\\begin{pmatrix}\n",
    "-2 & 1 & 0 \\\\\n",
    "1 & -2 & 1 \\\\\n",
    "0 &  1 & -2 \\\\\n",
    "\\end{pmatrix} \\otimes \\hat{I}  = \\frac{1}{dx^2} D \\otimes \\hat{I} \n",
    "\\\\\n",
    "\\\\\n",
    "$$\n",
    "On the other hand, differential operator y \n",
    "$$\n",
    "\\frac{\\partial^2 }{\\partial^2 x} = \n",
    "\\frac{1}{dy^2}\n",
    "\\begin{pmatrix}\n",
    "-2\\hat{I} & 1\\hat{I} & 0 \\\\\n",
    "\\hat{I} & -2\\hat{I} & \\hat{I} \\\\\n",
    "0 &  \\hat{I} & -2\\hat{I} \\\\\n",
    "\\end{pmatrix} = \n",
    "\\frac{1}{dy^2}\n",
    "\\begin{pmatrix}\n",
    "-2 & 0 & 0 & 1 & 0 & 0 & 0 & 0 & 0 \\\\\n",
    "0 & -2 & 0 & 0 & 1 & 0 & 0 & 0 & 0 \\\\\n",
    "0 & 0 & -2 & 0 & 0 & 1 & 0 & 0 & 0 \\\\\n",
    "1 & 0 & 0 & -2 & 0 & 0 & 1 & 0 & 0 \\\\\n",
    "0 & 1 & 0 & 0 & -2 & 0 & 0 & 1 & 0 \\\\\n",
    "0 & 0 & 1 & 0 & 0 & -2 & 0 & 0 & 1 \\\\\n",
    "0 & 0 & 0 & 1 & 0 & 0 & -2 & 0 & 0 \\\\\n",
    "0 & 0 & 0 & 0 & 1 & 0 & 0 & -2 & 0 \\\\\n",
    "0 & 0 & 0 & 0 & 0 & 1 & 0 & 0 & -2 \\\\\n",
    "\\end{pmatrix}  = \\frac{1}{dy^2}  \\hat{I} \\otimes D\n",
    "$$\n",
    "\n",
    "Resulting Laplas operator will have the form: $$ (dx = dy = d)$$\n",
    "$$\n",
    "\\Delta = \\frac{\\partial^2}{\\partial^2 x} + \\frac{\\partial^2}{\\partial^2 y} = \\frac{1}{d^2} ( D \\otimes \\hat{I} +  \\hat{I} \\otimes D) = \\frac{1}{d^2} D \\otimes D\n",
    "$$\n",
    "\n",
    "The final Schrödinger equation takes the form:\n",
    "\n",
    "$$\n",
    "(-\\frac{1}{2m d^2} D \\otimes D  - \\frac{Ze^2}{r - r_d}) \\Psi = E \\Psi(x,y) \n",
    "$$\n"
   ]
  },
  {
   "cell_type": "code",
   "execution_count": 1,
   "metadata": {},
   "outputs": [
    {
     "ename": "SyntaxError",
     "evalue": "unexpected character after line continuation character (<ipython-input-1-8f8a010104ac>, line 12)",
     "output_type": "error",
     "traceback": [
      "\u001b[0;36m  File \u001b[0;32m\"<ipython-input-1-8f8a010104ac>\"\u001b[0;36m, line \u001b[0;32m12\u001b[0m\n\u001b[0;31m    V = (-1)*(Zval/(np.abs(r - 0.1*d*Cos[\\[Theta]]^2 - d) +delta))*np.exp(-np.abs(r - 0.1*d*Cos[\\[Theta]]^2 - d)/a) + offset\u001b[0m\n\u001b[0m                                                                                                                             ^\u001b[0m\n\u001b[0;31mSyntaxError\u001b[0m\u001b[0;31m:\u001b[0m unexpected character after line continuation character\n"
     ]
    }
   ],
   "source": [
    "import numpy as np\n",
    "import math \n",
    "from scipy.sparse.linalg import eigsh\n",
    "from scipy.sparse.linalg import eigs\n",
    "from scipy import sparse\n",
    "import matplotlib.pylab as plt\n",
    "\n",
    "\n",
    "def get_potential(x,y, d, a, delta, offset):\n",
    "    r = np.sqrt(x**2 + y**2)\n",
    "    phi = np.arctan2(y, x) \n",
    "    V = (-1)*(Zval/(np.abs(r - 0.1*d*np.cos(phi)**2 - d) +delta))*np.exp(-np.abs(r - 0.1*d*np.cos(phi)**2 - d)/a) + offset \n",
    "    return V\n",
    "\n",
    "\n",
    "N = 90\n",
    "d  = 4\n",
    "a = 2\n",
    "delta = 1\n",
    "offset = 0;\n",
    "\n",
    "\n",
    "\n",
    "X,Y = np.meshgrid(np.linspace(-8, 8, N, dtype=float), np.linspace(-8, 8, N, dtype=float)) # in Ang\n",
    "\n",
    "\n",
    "V  = get_potential(X,Y, d, a, delta, offset)\n",
    "\n",
    "fig = plt.figure(figsize=(7,7))\n",
    "ax = fig.add_subplot(111)\n",
    "ax.set_aspect(1) \n",
    "im = ax.pcolor(X,Y,V,  shading='nearest')\n",
    "plt.colorbar(im)\n",
    "\n",
    "\n",
    "# ar_inf = np.where(np.isinf(V))\n",
    "# if np.any(ar_inf):\n",
    "#     print('Potential diverges at',ar_inf)\n",
    "#     V[ar_inf] = (V[ar_inf[0]-1,ar_inf[1]] + V[ar_inf[0]+1,ar_inf[1]] + V[ar_inf[0],ar_inf[1]-1] + V[ar_inf[0],ar_inf[1]+1])/4 \n",
    "#     print('Divergence was fixed')\n",
    "\n",
    "diag = np.ones([N])\n",
    "diags = np.array([diag, -2*diag, diag])\n",
    "D = sparse.spdiags(diags, np.array([-1,0,1]),N,N)\n",
    "T = -(1/2)*sparse.kronsum(D,D)\n",
    "\n",
    "U = sparse.diags(V.reshape(N**2), (0))\n",
    "H = T + U\n",
    "\n",
    "# print(np.min(U.todense()))\n",
    "\n",
    "print('hamiltonian was constructed!')"
   ]
  },
  {
   "cell_type": "code",
   "execution_count": 3,
   "metadata": {},
   "outputs": [
    {
     "name": "stdout",
     "output_type": "stream",
     "text": [
      "eigenproblem was solved!\n"
     ]
    }
   ],
   "source": [
    "#eigenproblem\n",
    "\n",
    "# eigenvalues, eigenvectors = eigsh(H, k = 5, which = 'SM')\n",
    "\n",
    "Ham = H.todense()\n",
    "\n",
    "eigenvalues, eigenvectors = np.linalg.eig(Ham)\n",
    "eigenvectors = np.array(eigenvectors)\n",
    "\n",
    "idx = eigenvalues.argsort()[::1]   \n",
    "eigenvalues = np.real(eigenvalues)[idx]\n",
    "eigenvectors = np.real(eigenvectors)[:,idx]\n",
    "\n",
    "\n",
    "print('eigenproblem was solved!')"
   ]
  },
  {
   "cell_type": "code",
   "execution_count": 15,
   "metadata": {},
   "outputs": [
    {
     "name": "stdout",
     "output_type": "stream",
     "text": [
      "0.28687835781421545\n"
     ]
    },
    {
     "data": {
      "image/png": "[encoded data removed]",
      "text/plain": [
       "<Figure size 504x504 with 2 Axes>"
      ]
     },
     "metadata": {
      "needs_background": "light"
     },
     "output_type": "display_data"
    }
   ],
   "source": [
    "#plotting\n",
    "m = 4\n",
    "\n",
    "def get_e(n):\n",
    "    return eigenvectors.T[n].reshape((N,N))\n",
    "\n",
    "print(eigenvalues[m])\n",
    "\n",
    "fig = plt.figure(figsize=(7,7))\n",
    "ax = fig.add_subplot(111)\n",
    "ax.set_aspect(1) \n",
    "im = ax.pcolor(X,Y,get_e(m)**2,  shading='nearest')\n",
    "plt.colorbar(im)\n",
    "\n",
    "fig.savefig('5.png', dpi=300)"
   ]
  },
  {
   "cell_type": "code",
   "execution_count": null,
   "metadata": {},
   "outputs": [],
   "source": [
    "plt.bar(np.arange(1,11,1), eigenvalues[1:11]- eigenvalues[0])\n",
    "plt.ylabel('Energy (eV)')\n",
    "plt.xlabel('Eigenstates')"
   ]
  }
 ],
 "metadata": {
  "kernelspec": {
   "display_name": "Python 3",
   "language": "python",
   "name": "python3"
  },
  "language_info": {
   "codemirror_mode": {
    "name": "ipython",
    "version": 3
   },
   "file_extension": ".py",
   "mimetype": "text/x-python",
   "name": "python",
   "nbconvert_exporter": "python",
   "pygments_lexer": "ipython3",
   "version": "3.7.12"
  }
 },
 "nbformat": 4,
 "nbformat_minor": 4
}
